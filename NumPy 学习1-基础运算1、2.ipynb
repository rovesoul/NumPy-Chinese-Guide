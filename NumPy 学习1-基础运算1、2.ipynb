{
 "cells": [
  {
   "cell_type": "markdown",
   "metadata": {},
   "source": [
    "# numpy基础"
   ]
  },
  {
   "cell_type": "code",
   "execution_count": 1,
   "metadata": {},
   "outputs": [
    {
     "name": "stdout",
     "output_type": "stream",
     "text": [
      "[[1 2 3 4]\n",
      " [2 3 4 5]]\n",
      "number of dim: 2\n",
      "shape : (2, 4)\n",
      "size: 8\n"
     ]
    }
   ],
   "source": [
    "import numpy as np\n",
    "array = np.array([[1,2,3,4],[2,3,4,5]])  #列表转化为矩阵\n",
    "print(array)\n",
    "\n",
    "print('number of dim:',array.ndim)  # 维度  .ndim\n",
    "# number of dim: 2\n",
    "\n",
    "print('shape :',array.shape)    # 行数和列数\n",
    "# shape : (2, 3)\n",
    "\n",
    "print('size:',array.size)   # 元素个数\n",
    "# size: 8"
   ]
  },
  {
   "cell_type": "markdown",
   "metadata": {},
   "source": [
    "array：创建数组\n",
    "\n",
    "dtype：指定数据类型\n",
    "\n",
    "zeros：创建数据全为0\n",
    "\n",
    "ones：创建数据全为1\n",
    "\n",
    "empty：创建数据接近0\n",
    "\n",
    "arrange：按指定范围创建数据\n",
    "\n",
    "linspace：创建线段\n"
   ]
  },
  {
   "cell_type": "code",
   "execution_count": 9,
   "metadata": {},
   "outputs": [
    {
     "name": "stdout",
     "output_type": "stream",
     "text": [
      "[ 2 23  4]\n",
      "int64\n",
      "[ 2 23  4]\n",
      "float64\n",
      "[ 2. 23.  4.]\n"
     ]
    }
   ],
   "source": [
    "a = np.array([2,23,4])  # 列表a\n",
    "print(a) #答案没有逗号,\n",
    "a = np.array([2,23,4],dtype=np.int)  #可以定义32位  int32 即可\n",
    "print(a.dtype)\n",
    "print(a)\n",
    "a = np.array([2,23,4],dtype=np.float)  #可以定义32位  float32 即可\n",
    "print(a.dtype)\n",
    "print(a)"
   ]
  },
  {
   "cell_type": "markdown",
   "metadata": {},
   "source": [
    "创建特定数据:特定矩阵、0、1、空"
   ]
  },
  {
   "cell_type": "code",
   "execution_count": 12,
   "metadata": {},
   "outputs": [
    {
     "name": "stdout",
     "output_type": "stream",
     "text": [
      "[[ 2 23  4]\n",
      " [ 2 32  4]]\n"
     ]
    }
   ],
   "source": [
    "a = np.array([[2,23,4],[2,32,4]])  # 2d 矩阵 2行3列\n",
    "print(a)"
   ]
  },
  {
   "cell_type": "code",
   "execution_count": 15,
   "metadata": {},
   "outputs": [
    {
     "name": "stdout",
     "output_type": "stream",
     "text": [
      "[[0. 0. 0. 0.]\n",
      " [0. 0. 0. 0.]\n",
      " [0. 0. 0. 0.]]\n"
     ]
    }
   ],
   "source": [
    "a = np.zeros((3,4)) # 数据全为0，3行4列\n",
    "print(a)"
   ]
  },
  {
   "cell_type": "code",
   "execution_count": 18,
   "metadata": {},
   "outputs": [
    {
     "name": "stdout",
     "output_type": "stream",
     "text": [
      "[[1 1 1 1]\n",
      " [1 1 1 1]\n",
      " [1 1 1 1]]\n"
     ]
    }
   ],
   "source": [
    "a = np.ones((3,4),dtype = np.int)   # 数据为1，3行4列\n",
    "print(a)"
   ]
  },
  {
   "cell_type": "code",
   "execution_count": 20,
   "metadata": {},
   "outputs": [
    {
     "name": "stdout",
     "output_type": "stream",
     "text": [
      "[[5.e-324 5.e-324 5.e-324 5.e-324]\n",
      " [5.e-324 5.e-324 5.e-324 5.e-324]\n",
      " [5.e-324 5.e-324 5.e-324 5.e-324]]\n"
     ]
    }
   ],
   "source": [
    "a = np.empty((3,4)) # 数据为empty，3行4列\n",
    "print(a)"
   ]
  },
  {
   "cell_type": "code",
   "execution_count": 35,
   "metadata": {},
   "outputs": [
    {
     "name": "stdout",
     "output_type": "stream",
     "text": [
      "a1--------------------\n",
      "[10 12 14 16 18]\n",
      "a2--------------------\n",
      "[[ 2  3  4  5]\n",
      " [ 6  7  8  9]\n",
      " [10 11 12 13]]\n",
      "a22--------------------\n",
      "[[ 0  1  2  3]\n",
      " [ 4  5  6  7]\n",
      " [ 8  9 10 11]]\n",
      "a3--------------------\n",
      "[ 1.          1.47368421  1.94736842  2.42105263  2.89473684  3.36842105\n",
      "  3.84210526  4.31578947  4.78947368  5.26315789  5.73684211  6.21052632\n",
      "  6.68421053  7.15789474  7.63157895  8.10526316  8.57894737  9.05263158\n",
      "  9.52631579 10.        ]\n",
      "a4--------------------\n",
      "[[ 1.          1.47368421  1.94736842  2.42105263]\n",
      " [ 2.89473684  3.36842105  3.84210526  4.31578947]\n",
      " [ 4.78947368  5.26315789  5.73684211  6.21052632]\n",
      " [ 6.68421053  7.15789474  7.63157895  8.10526316]\n",
      " [ 8.57894737  9.05263158  9.52631579 10.        ]]\n"
     ]
    }
   ],
   "source": [
    "a1 = np.arange(10,20,2) # 10-19 的数据，2步长\n",
    "a2 = np.arange(2,14).reshape((3,4))    # 3行4列，0到11\n",
    "a22 = np.arange(12).reshape((3,4))    # 3行4列，0到11\n",
    "a3 = np.linspace(1,10,20)    # 开始端1，结束端10，且分割成20个数据，生成线段\n",
    "a4 = np.linspace(1,10,20).reshape((5,4)) # 更改shape\n",
    "print('a1--------------------')\n",
    "print(a1)\n",
    "print('a2--------------------')\n",
    "print(a2)\n",
    "print('a22--------------------')\n",
    "print(a22)\n",
    "print('a3--------------------')\n",
    "print(a3)\n",
    "print('a4--------------------')\n",
    "print(a4)"
   ]
  },
  {
   "cell_type": "markdown",
   "metadata": {},
   "source": [
    "# NumPy 基础运算1 \n",
    "## 一维运算"
   ]
  },
  {
   "cell_type": "code",
   "execution_count": 47,
   "metadata": {},
   "outputs": [
    {
     "name": "stdout",
     "output_type": "stream",
     "text": [
      "a [10 20 30 40]\n",
      "b [0 1 2 3]\n",
      "c [10 19 28 37]\n"
     ]
    }
   ],
   "source": [
    "a=np.array([10,20,30,40])   # array([10, 20, 30, 40])\n",
    "b=np.arange(4)         # array([0, 1, 2, 3])\n",
    "print('a',a)\n",
    "print('b',b)\n",
    "c=a-b    #矩阵减法\n",
    "print('c',c)"
   ]
  },
  {
   "cell_type": "code",
   "execution_count": 48,
   "metadata": {},
   "outputs": [
    {
     "name": "stdout",
     "output_type": "stream",
     "text": [
      "[10 21 32 43]\n"
     ]
    }
   ],
   "source": [
    "d=a+b\n",
    "print (d)"
   ]
  },
  {
   "cell_type": "code",
   "execution_count": 49,
   "metadata": {},
   "outputs": [
    {
     "name": "stdout",
     "output_type": "stream",
     "text": [
      "[  0  20  60 120]\n"
     ]
    }
   ],
   "source": [
    "e=a*b   # array([  0,  20,  60, 120])\n",
    "print(e)"
   ]
  },
  {
   "cell_type": "code",
   "execution_count": 50,
   "metadata": {},
   "outputs": [
    {
     "name": "stdout",
     "output_type": "stream",
     "text": [
      "[0 1 4 9]\n"
     ]
    }
   ],
   "source": [
    "f=b**2  # array([0, 1, 4, 9])\n",
    "print(f)"
   ]
  },
  {
   "cell_type": "code",
   "execution_count": 58,
   "metadata": {},
   "outputs": [
    {
     "name": "stdout",
     "output_type": "stream",
     "text": [
      "[-5.44021111  9.12945251 -9.88031624  7.4511316 ]\n"
     ]
    }
   ],
   "source": [
    "g=10*np.sin(a)  \n",
    "print(g)"
   ]
  },
  {
   "cell_type": "code",
   "execution_count": 65,
   "metadata": {},
   "outputs": [
    {
     "name": "stdout",
     "output_type": "stream",
     "text": [
      "[[ True  True]\n",
      " [False False]]\n",
      "[[False False]\n",
      " [False  True]]\n"
     ]
    }
   ],
   "source": [
    "print(b<2)\n",
    "print(b==3)"
   ]
  },
  {
   "cell_type": "markdown",
   "metadata": {},
   "source": [
    "## 二纬运算"
   ]
  },
  {
   "cell_type": "code",
   "execution_count": 63,
   "metadata": {},
   "outputs": [
    {
     "name": "stdout",
     "output_type": "stream",
     "text": [
      "[[1 1]\n",
      " [0 1]]\n",
      "[[0 1]\n",
      " [2 3]]\n"
     ]
    }
   ],
   "source": [
    "a=np.array([[1,1],[0,1]])\n",
    "b=np.arange(4).reshape((2,2))\n",
    "print(a)\n",
    "print(b)"
   ]
  },
  {
   "cell_type": "code",
   "execution_count": 68,
   "metadata": {},
   "outputs": [
    {
     "name": "stdout",
     "output_type": "stream",
     "text": [
      "[[0 1]\n",
      " [0 3]]\n",
      "\n",
      "[[2 4]\n",
      " [2 3]]\n",
      "\n",
      "[[2 4]\n",
      " [2 3]]\n"
     ]
    }
   ],
   "source": [
    "c=a*b\n",
    "d=np.dot(a,b)\n",
    "print(c,end='\\n\\n')\n",
    "print(d)\n",
    "print('')\n",
    "d2= a.dot(b) #a dot b的第二种形式\n",
    "print(d2)"
   ]
  },
  {
   "cell_type": "code",
   "execution_count": 73,
   "metadata": {},
   "outputs": [
    {
     "name": "stdout",
     "output_type": "stream",
     "text": [
      "[[1 2]\n",
      " [3 4]]\n",
      "[[1 2]\n",
      " [1 2]]\n",
      "[[ 3  6]\n",
      " [ 7 14]]\n"
     ]
    }
   ],
   "source": [
    "#经过研究测试一下 应该是[[3,6],[7,14]]\n",
    "\n",
    "a=np.arange(1,5).reshape((2,2))\n",
    "b=np.array([[1,2],[1,2]])\n",
    "c=a.dot(b)\n",
    "print(a)\n",
    "print(b)\n",
    "print(c)\n",
    "\n"
   ]
  },
  {
   "cell_type": "markdown",
   "metadata": {},
   "source": [
    "[所以，dot就是行成列的和，作为一个元素,点击参考百度链接：](https://baike.baidu.com/item/%E7%9F%A9%E9%98%B5%E4%B9%98%E6%B3%95/5446029?fr=aladdin)\n",
    "\n",
    "## 随机生成序列矩阵"
   ]
  },
  {
   "cell_type": "code",
   "execution_count": 76,
   "metadata": {},
   "outputs": [
    {
     "name": "stdout",
     "output_type": "stream",
     "text": [
      "[[0.58411757 0.67044761 0.65859751 0.55981163]\n",
      " [0.93236608 0.64997618 0.03785699 0.02292278]]\n"
     ]
    }
   ],
   "source": [
    "a=np.random.random((2,4))  #随机生成2行四列\n",
    "print(a)"
   ]
  },
  {
   "cell_type": "code",
   "execution_count": 80,
   "metadata": {},
   "outputs": [
    {
     "name": "stdout",
     "output_type": "stream",
     "text": [
      "4.116096352363905\n",
      "0.022922781710752793\n",
      "0.9323660800626806\n"
     ]
    }
   ],
   "source": [
    "print(np.sum(a))   # 4.4043622002745959\n",
    "print(np.min(a) )  # 0.23651223533671784\n",
    "print(np.max(a) )  # 0.90438450240606416"
   ]
  },
  {
   "cell_type": "code",
   "execution_count": 82,
   "metadata": {},
   "outputs": [
    {
     "name": "stdout",
     "output_type": "stream",
     "text": [
      "a = [[0.58411757 0.67044761 0.65859751 0.55981163]\n",
      " [0.93236608 0.64997618 0.03785699 0.02292278]]\n",
      "sum = [2.47297432 1.64312204]\n",
      "sum = 4.116096352363905\n",
      "min = [0.58411757 0.64997618 0.03785699 0.02292278]\n",
      "max = [0.67044761 0.93236608]\n"
     ]
    }
   ],
   "source": [
    "print(\"a =\",a)\n",
    "\n",
    "print(\"sum =\",np.sum(a,axis=1))\n",
    "print('sum =',np.sum(a))\n",
    "print(\"min =\",np.min(a,axis=0))\n",
    "\n",
    "print(\"max =\",np.max(a,axis=1))\n",
    "# 如果你需要对行或者列进行查找运算，就需要在上述代码中为 axis 进行赋值。 \n",
    "# 当axis的值为0的时候，将会以列作为查找单元， 当axis的值为1的时候，将会以行作为查找单元。\n",
    "# 这块挺乱哈"
   ]
  },
  {
   "cell_type": "markdown",
   "metadata": {},
   "source": [
    "# NumPy 基础运算2"
   ]
  },
  {
   "cell_type": "markdown",
   "metadata": {},
   "source": [
    "## 其中的 argmin() 和 argmax() 两个函数分别对应着求矩阵中最小元素和最大元素的索引。相应的，在矩阵的12个元素中，最小值即2，对应索引0，最大值为13，对应索引为11。"
   ]
  },
  {
   "cell_type": "code",
   "execution_count": 96,
   "metadata": {},
   "outputs": [
    {
     "name": "stdout",
     "output_type": "stream",
     "text": [
      "[[ 2  3  4  5]\n",
      " [ 6  7  8  9]\n",
      " [10 11 12 13]]\n",
      "\n",
      "0\n",
      "11\n"
     ]
    }
   ],
   "source": [
    "A = np.arange(2,14).reshape((3,4)) \n",
    "B = np.array([[2,3,4],[1,1,1],[8,9,55]])\n",
    "print(A)\n",
    "\n",
    "print('')\n",
    "         \n",
    "print(np.argmin(A))    # 0  个位置\n",
    "print(np.argmax(A))    # 11 个位置"
   ]
  },
  {
   "cell_type": "markdown",
   "metadata": {},
   "source": [
    "## 如果需要计算统计中的均值，可以利用下面的方式，将整个矩阵的均值求出来："
   ]
  },
  {
   "cell_type": "code",
   "execution_count": 87,
   "metadata": {},
   "outputs": [
    {
     "name": "stdout",
     "output_type": "stream",
     "text": [
      "7.5\n",
      "7.5\n",
      "7.5\n"
     ]
    }
   ],
   "source": [
    "print(np.mean(A))        # 7.5\n",
    "print(np.average(A))     # 7.5\n",
    "print(A.mean())          # 7.5"
   ]
  },
  {
   "cell_type": "markdown",
   "metadata": {},
   "source": [
    "## 同样的，我们可以写出求解中位数的函数："
   ]
  },
  {
   "cell_type": "code",
   "execution_count": 92,
   "metadata": {},
   "outputs": [
    {
     "name": "stdout",
     "output_type": "stream",
     "text": [
      "7.5\n"
     ]
    }
   ],
   "source": [
    "print(np.median(A))       # 7.5\n",
    "#print(A.median())       # 7.5 这个方式用不了"
   ]
  },
  {
   "cell_type": "markdown",
   "metadata": {},
   "source": [
    "## 数组累加：\n",
    "在cumsum()函数中：生成的每一项矩阵元素均是从原矩阵首项累加到对应项的元素之和。"
   ]
  },
  {
   "cell_type": "code",
   "execution_count": 99,
   "metadata": {},
   "outputs": [
    {
     "name": "stdout",
     "output_type": "stream",
     "text": [
      "[[ 2  3  4  5]\n",
      " [ 6  7  8  9]\n",
      " [10 11 12 13]]\n",
      " \n",
      "[[ 2  3  4]\n",
      " [ 1  1  1]\n",
      " [ 8  9 55]]\n",
      " \n",
      "[ 2  5  9 14 20 27 35 44 54 65 77 90]\n",
      "[ 2  5  9 10 11 12 20 29 84]\n"
     ]
    }
   ],
   "source": [
    "print(A)\n",
    "print(' ')\n",
    "print(B)\n",
    "print(' ')\n",
    "print(np.cumsum(A)) \n",
    "print(np.cumsum(B)) "
   ]
  },
  {
   "cell_type": "markdown",
   "metadata": {},
   "source": [
    "相应的有累差运算函数：该函数计算的便是每一行中后一项与前一项之差。故一个3行4列矩阵通过函数计算得到的矩阵便是3行3列的矩阵。"
   ]
  },
  {
   "cell_type": "code",
   "execution_count": 101,
   "metadata": {},
   "outputs": [
    {
     "name": "stdout",
     "output_type": "stream",
     "text": [
      "[[1 1 1]\n",
      " [1 1 1]\n",
      " [1 1 1]]\n",
      " \n",
      "[[ 1  1]\n",
      " [ 0  0]\n",
      " [ 1 46]]\n"
     ]
    }
   ],
   "source": [
    "print(np.diff(A))\n",
    "print(' ')\n",
    "print(np.diff(B))"
   ]
  },
  {
   "cell_type": "markdown",
   "metadata": {},
   "source": [
    "## 进行sort运算"
   ]
  },
  {
   "cell_type": "code",
   "execution_count": 106,
   "metadata": {
    "scrolled": true
   },
   "outputs": [
    {
     "name": "stdout",
     "output_type": "stream",
     "text": [
      "[[14 13 12 11]\n",
      " [10  9  8  7]\n",
      " [ 6  5  4  3]]\n",
      "下边进行sort运算:::\n",
      "\n",
      "[[11 12 13 14]\n",
      " [ 7  8  9 10]\n",
      " [ 3  4  5  6]]\n"
     ]
    }
   ],
   "source": [
    "A = np.arange(14,2, -1).reshape((3,4)) \n",
    "print(A)\n",
    "print('下边进行sort运算:::',end='\\n\\n')\n",
    "print(np.sort(A))"
   ]
  },
  {
   "cell_type": "markdown",
   "metadata": {},
   "source": [
    "## 矩阵的转置有两种表示方法："
   ]
  },
  {
   "cell_type": "code",
   "execution_count": 108,
   "metadata": {},
   "outputs": [
    {
     "name": "stdout",
     "output_type": "stream",
     "text": [
      "[[14 10  6]\n",
      " [13  9  5]\n",
      " [12  8  4]\n",
      " [11  7  3]]\n",
      "\n",
      "[[14 10  6]\n",
      " [13  9  5]\n",
      " [12  8  4]\n",
      " [11  7  3]]\n"
     ]
    }
   ],
   "source": [
    "print(np.transpose(A),end='\\n\\n')    \n",
    "print(A.T)"
   ]
  },
  {
   "cell_type": "markdown",
   "metadata": {},
   "source": [
    "## 特别的，在Numpy中具有clip()函数，例子如下：\n",
    "这个函数的格式是clip(Array,Array_min,Array_max)，顾名思义，Array指的是将要被执行用的矩阵，而后面的最小值最大值则用于让函数判断矩阵中元素是否有比最小值小的或者比最大值大的元素，并将这些指定的元素转换为最小值或者最大值。"
   ]
  },
  {
   "cell_type": "code",
   "execution_count": 111,
   "metadata": {},
   "outputs": [
    {
     "name": "stdout",
     "output_type": "stream",
     "text": [
      "[[14 13 12 11]\n",
      " [10  9  8  7]\n",
      " [ 6  5  4  3]]\n",
      "\n",
      "\n",
      "\n",
      "[[9 9 9 9]\n",
      " [9 9 8 7]\n",
      " [6 5 5 5]]\n"
     ]
    }
   ],
   "source": [
    "print(A)\n",
    "\n",
    "print('\\n\\n')\n",
    "print(np.clip(A,5,9))    \n"
   ]
  },
  {
   "cell_type": "markdown",
   "metadata": {},
   "source": []
  }
 ],
 "metadata": {
  "kernelspec": {
   "display_name": "Python 3",
   "language": "python",
   "name": "python3"
  },
  "language_info": {
   "codemirror_mode": {
    "name": "ipython",
    "version": 3
   },
   "file_extension": ".py",
   "mimetype": "text/x-python",
   "name": "python",
   "nbconvert_exporter": "python",
   "pygments_lexer": "ipython3",
   "version": "3.7.4"
  }
 },
 "nbformat": 4,
 "nbformat_minor": 2
}
